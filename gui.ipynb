{
 "cells": [
  {
   "cell_type": "code",
   "execution_count": 2,
   "metadata": {},
   "outputs": [
    {
     "name": "stdout",
     "output_type": "stream",
     "text": [
      "Python běží!\n"
     ]
    }
   ],
   "source": [
    "print(\"Python běží!\")"
   ]
  },
  {
   "cell_type": "code",
   "execution_count": 3,
   "metadata": {},
   "outputs": [
    {
     "name": "stdout",
     "output_type": "stream",
     "text": [
      "Defaulting to user installation because normal site-packages is not writeable\n",
      "Requirement already satisfied: numpy in /home/pytel/.local/lib/python3.12/site-packages (from -r ./pip-dependencies.txt (line 1)) (2.1.1)\n",
      "Requirement already satisfied: scipy in /home/pytel/.local/lib/python3.12/site-packages (from -r ./pip-dependencies.txt (line 2)) (1.14.1)\n",
      "Requirement already satisfied: PyQt5 in /home/pytel/.local/lib/python3.12/site-packages (from -r ./pip-dependencies.txt (line 3)) (5.15.11)\n",
      "Requirement already satisfied: pillow in /usr/lib/python3/dist-packages (from -r ./pip-dependencies.txt (line 4)) (10.2.0)\n",
      "Requirement already satisfied: pyaudio in /usr/lib/python3/dist-packages (from -r ./pip-dependencies.txt (line 5)) (0.2.13)\n",
      "Requirement already satisfied: matplotlib in /home/pytel/.local/lib/python3.12/site-packages (from -r ./pip-dependencies.txt (line 6)) (3.9.2)\n",
      "Requirement already satisfied: PyQt5-sip<13,>=12.15 in /home/pytel/.local/lib/python3.12/site-packages (from PyQt5->-r ./pip-dependencies.txt (line 3)) (12.15.0)\n",
      "Requirement already satisfied: PyQt5-Qt5<5.16.0,>=5.15.2 in /home/pytel/.local/lib/python3.12/site-packages (from PyQt5->-r ./pip-dependencies.txt (line 3)) (5.15.15)\n",
      "Requirement already satisfied: contourpy>=1.0.1 in /home/pytel/.local/lib/python3.12/site-packages (from matplotlib->-r ./pip-dependencies.txt (line 6)) (1.3.0)\n",
      "Requirement already satisfied: cycler>=0.10 in /home/pytel/.local/lib/python3.12/site-packages (from matplotlib->-r ./pip-dependencies.txt (line 6)) (0.12.1)\n",
      "Requirement already satisfied: fonttools>=4.22.0 in /home/pytel/.local/lib/python3.12/site-packages (from matplotlib->-r ./pip-dependencies.txt (line 6)) (4.53.1)\n",
      "Requirement already satisfied: kiwisolver>=1.3.1 in /home/pytel/.local/lib/python3.12/site-packages (from matplotlib->-r ./pip-dependencies.txt (line 6)) (1.4.7)\n",
      "Requirement already satisfied: packaging>=20.0 in /usr/lib/python3/dist-packages (from matplotlib->-r ./pip-dependencies.txt (line 6)) (24.0)\n",
      "Requirement already satisfied: pyparsing>=2.3.1 in /usr/lib/python3/dist-packages (from matplotlib->-r ./pip-dependencies.txt (line 6)) (3.1.1)\n",
      "Requirement already satisfied: python-dateutil>=2.7 in /usr/lib/python3/dist-packages (from matplotlib->-r ./pip-dependencies.txt (line 6)) (2.8.2)\n"
     ]
    }
   ],
   "source": [
    "import sys\n",
    "\n",
    "#sys.path.append('../')\n",
    "\n",
    "!{sys.executable} -m pip install -r ./pip-dependencies.txt"
   ]
  },
  {
   "cell_type": "code",
   "execution_count": 4,
   "metadata": {},
   "outputs": [],
   "source": [
    "import numpy as np\n",
    "import matplotlib.pyplot as plt\n",
    "import datetime\n",
    "from colors import *"
   ]
  },
  {
   "cell_type": "markdown",
   "metadata": {},
   "source": [
    "# Hrátky s UI"
   ]
  },
  {
   "cell_type": "code",
   "execution_count": 1,
   "metadata": {},
   "outputs": [
    {
     "name": "stderr",
     "output_type": "stream",
     "text": [
      "qt.qpa.plugin: Could not find the Qt platform plugin \"wayland\" in \"\"\n"
     ]
    },
    {
     "ename": "SystemExit",
     "evalue": "0",
     "output_type": "error",
     "traceback": [
      "An exception has occurred, use %tb to see the full traceback.\n",
      "\u001b[0;31mSystemExit\u001b[0m\u001b[0;31m:\u001b[0m 0\n"
     ]
    },
    {
     "name": "stderr",
     "output_type": "stream",
     "text": [
      "/home/pytel/.local/lib/python3.12/site-packages/IPython/core/interactiveshell.py:3585: UserWarning: To exit: use 'exit', 'quit', or Ctrl-D.\n",
      "  warn(\"To exit: use 'exit', 'quit', or Ctrl-D.\", stacklevel=1)\n"
     ]
    }
   ],
   "source": [
    "import sys\n",
    "from PyQt5.QtWidgets import QApplication, QWidget, QVBoxLayout, QLabel, QComboBox, QGroupBox\n",
    "\n",
    "class ComboBoxExample(QWidget):\n",
    "    def __init__(self):\n",
    "        super().__init__()\n",
    "\n",
    "        self.initUI()\n",
    "\n",
    "    def initUI(self):\n",
    "        self.layout = QVBoxLayout()\n",
    "\n",
    "        # Vytvoření QGroupBox pro ohraničené okno\n",
    "        self.groupBox = QGroupBox(\"Select an option\")\n",
    "        self.groupBoxLayout = QVBoxLayout()\n",
    "\n",
    "        # Vytvoření QLabel pro zobrazení textu\n",
    "        self.label = QLabel(\"Select an option from the combo box\")\n",
    "        self.groupBoxLayout.addWidget(self.label)\n",
    "\n",
    "        # Vytvoření QComboBox\n",
    "        self.comboBox = QComboBox()\n",
    "        self.comboBox.addItems([\"Option 1\", \"Option 2\", \"Option 3\"])\n",
    "        self.comboBox.currentIndexChanged.connect(self.update_label)\n",
    "        self.groupBoxLayout.addWidget(self.comboBox)\n",
    "\n",
    "        self.groupBox.setLayout(self.groupBoxLayout)\n",
    "        self.layout.addWidget(self.groupBox)\n",
    "\n",
    "        self.setLayout(self.layout)\n",
    "        self.setWindowTitle('ComboBox Example')\n",
    "        self.show()\n",
    "\n",
    "    def update_label(self, index):\n",
    "        # Aktualizace textu v QLabel na základě vybrané položky v QComboBox\n",
    "        selected_text = self.comboBox.currentText()\n",
    "        self.label.setText(f\"Selected: {selected_text}\")\n",
    "\n",
    "if __name__ == '__main__':\n",
    "    app = QApplication(sys.argv)\n",
    "    ex = ComboBoxExample()\n",
    "    sys.exit(app.exec_())"
   ]
  }
 ],
 "metadata": {
  "kernelspec": {
   "display_name": "Python 3",
   "language": "python",
   "name": "python3"
  },
  "language_info": {
   "codemirror_mode": {
    "name": "ipython",
    "version": 3
   },
   "file_extension": ".py",
   "mimetype": "text/x-python",
   "name": "python",
   "nbconvert_exporter": "python",
   "pygments_lexer": "ipython3",
   "version": "3.12.3"
  }
 },
 "nbformat": 4,
 "nbformat_minor": 2
}
